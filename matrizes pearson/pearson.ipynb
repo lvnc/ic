{
 "cells": [
  {
   "cell_type": "markdown",
   "metadata": {},
   "source": [
    "# ♡ Trabalhando atributos ♡"
   ]
  },
  {
   "cell_type": "code",
   "execution_count": 1,
   "metadata": {},
   "outputs": [
    {
     "data": {
      "text/plain": [
       "'0.24.2'"
      ]
     },
     "execution_count": 1,
     "metadata": {},
     "output_type": "execute_result"
    }
   ],
   "source": [
    "import pandas as pd\n",
    "import seaborn as sns\n",
    "import matplotlib.pyplot as plt\n",
    "from os import path\n",
    "import numpy as np\n",
    "\n",
    "pd.__version__"
   ]
  },
  {
   "cell_type": "code",
   "execution_count": 2,
   "metadata": {},
   "outputs": [],
   "source": [
    "def parseInt(value):\n",
    "    if value == True:\n",
    "        return 1\n",
    "    elif value == False:\n",
    "        return 0\n",
    "    else:\n",
    "        return pd.np.nan"
   ]
  },
  {
   "cell_type": "markdown",
   "metadata": {},
   "source": [
    "# 1. Azure"
   ]
  },
  {
   "cell_type": "code",
   "execution_count": 3,
   "metadata": {},
   "outputs": [],
   "source": [
    "dataframe = pd.read_excel('all_attributes.xlsx', usecols=range(0,29), sheet_name='azure')"
   ]
  },
  {
   "cell_type": "code",
   "execution_count": 4,
   "metadata": {},
   "outputs": [],
   "source": [
    "#converte pra inteiro as colunas booleanas\n",
    "bool_columns = list(filter(lambda x: x.startswith('A_' or 'E_' or 'V_'), dataframe.columns))\n",
    "for col in bool_columns:\n",
    "    dataframe[col] = dataframe[col].apply(parseInt)"
   ]
  },
  {
   "cell_type": "code",
   "execution_count": 5,
   "metadata": {},
   "outputs": [
    {
     "data": {
      "text/plain": [
       "Index(['FILENAME', 'IMAGE', 'GENDER', 'G_AZURE', 'A_GENDER_AZURE',\n",
       "       'A_MALE_AZURE', 'E_MALE_AZURE', 'A_FEMALE_AZURE', 'E_FEMALE_AZURE',\n",
       "       'MODA_AGE', 'AGE_MIN', 'AGE_MAX', 'AGE_AZURE', 'V_AGE_AZURE',\n",
       "       'Attractive', 'Is this person famous?', 'Common?',\n",
       "       'How much emotion is in this face?', 'Emotion?', 'Eyes direction?',\n",
       "       'Face direction?', 'Facial hair?', 'Friendly', 'Makeup?',\n",
       "       'Image quality', 'Race', 'Memorable',\n",
       "       'At what speed do you think this expression is happening?',\n",
       "       'How much teeth is showing?'],\n",
       "      dtype='object')"
      ]
     },
     "execution_count": 5,
     "metadata": {},
     "output_type": "execute_result"
    }
   ],
   "source": [
    "dataframe.columns"
   ]
  },
  {
   "cell_type": "markdown",
   "metadata": {},
   "source": [
    "### Matriz com coeficientes de Pearson completo"
   ]
  },
  {
   "cell_type": "code",
   "execution_count": 6,
   "metadata": {},
   "outputs": [],
   "source": [
    "dataframe = dataframe.drop(['FILENAME', 'IMAGE', 'A_MALE_AZURE', 'E_MALE_AZURE', \n",
    "                            'A_FEMALE_AZURE', 'E_FEMALE_AZURE', 'AGE_MIN', 'AGE_MAX', 'Is this person famous?',\n",
    "                            'At what speed do you think this expression is happening?'], axis = 1)"
   ]
  },
  {
   "cell_type": "code",
   "execution_count": 7,
   "metadata": {},
   "outputs": [],
   "source": [
    "corr = dataframe.corr()\n",
    "corr\n",
    "corr.to_excel('matriz_pearson_completo_azure.xlsx', index=None)"
   ]
  },
  {
   "cell_type": "markdown",
   "metadata": {},
   "source": [
    "### filtro: apenas genero feminino"
   ]
  },
  {
   "cell_type": "code",
   "execution_count": 8,
   "metadata": {},
   "outputs": [],
   "source": [
    "dataframe = pd.read_excel('all_attributes.xlsx', usecols=range(0,29), sheet_name='azure')"
   ]
  },
  {
   "cell_type": "code",
   "execution_count": 9,
   "metadata": {},
   "outputs": [],
   "source": [
    "#converte pra inteiro as colunas booleanas\n",
    "bool_columns = list(filter(lambda x: x.startswith('A_' or 'E_' or 'V_'), dataframe.columns))\n",
    "for col in bool_columns:\n",
    "    dataframe[col] = dataframe[col].apply(parseInt)"
   ]
  },
  {
   "cell_type": "code",
   "execution_count": 10,
   "metadata": {},
   "outputs": [],
   "source": [
    "lista_fem = []\n",
    "\n",
    "for line in dataframe.index:\n",
    "    \n",
    "    if dataframe['GENDER'][line] == 0:\n",
    "        lista_fem.append(line)\n",
    "\n",
    "dataframe = dataframe.loc[lista_fem, :]"
   ]
  },
  {
   "cell_type": "code",
   "execution_count": 11,
   "metadata": {},
   "outputs": [],
   "source": [
    "dataframe = dataframe.drop(['FILENAME', 'IMAGE', 'GENDER', 'A_MALE_AZURE', 'E_MALE_AZURE', \n",
    "                            'A_FEMALE_AZURE', 'E_FEMALE_AZURE', 'AGE_MIN', 'AGE_MAX', 'Is this person famous?',\n",
    "                            'At what speed do you think this expression is happening?'], axis = 1)"
   ]
  },
  {
   "cell_type": "code",
   "execution_count": 12,
   "metadata": {},
   "outputs": [],
   "source": [
    "corr = dataframe.corr()\n",
    "corr\n",
    "corr.to_excel('matriz_pearson_fem_azure.xlsx', index=None)"
   ]
  },
  {
   "cell_type": "markdown",
   "metadata": {},
   "source": [
    "### filtro: apenas genero masculino"
   ]
  },
  {
   "cell_type": "code",
   "execution_count": 13,
   "metadata": {},
   "outputs": [],
   "source": [
    "dataframe = pd.read_excel('all_attributes.xlsx', usecols=range(0,29), sheet_name='azure')"
   ]
  },
  {
   "cell_type": "code",
   "execution_count": 14,
   "metadata": {},
   "outputs": [],
   "source": [
    "#converte pra inteiro as colunas booleanas\n",
    "bool_columns = list(filter(lambda x: x.startswith('A_' or 'E_' or 'V_'), dataframe.columns))\n",
    "for col in bool_columns:\n",
    "    dataframe[col] = dataframe[col].apply(parseInt)"
   ]
  },
  {
   "cell_type": "code",
   "execution_count": 15,
   "metadata": {},
   "outputs": [],
   "source": [
    "lista_male = []\n",
    "\n",
    "for line in dataframe.index:\n",
    "    \n",
    "    if dataframe['GENDER'][line] == 1:\n",
    "        lista_male.append(line)\n",
    "\n",
    "dataframe = dataframe.loc[lista_male, :]"
   ]
  },
  {
   "cell_type": "code",
   "execution_count": 16,
   "metadata": {},
   "outputs": [],
   "source": [
    "dataframe = dataframe.drop(['FILENAME', 'IMAGE', 'GENDER', 'A_MALE_AZURE', 'E_MALE_AZURE', \n",
    "                            'A_FEMALE_AZURE', 'E_FEMALE_AZURE', 'AGE_MIN', 'AGE_MAX', 'Is this person famous?',\n",
    "                            'At what speed do you think this expression is happening?'], axis = 1)"
   ]
  },
  {
   "cell_type": "code",
   "execution_count": 17,
   "metadata": {},
   "outputs": [],
   "source": [
    "corr = dataframe.corr()\n",
    "corr\n",
    "corr.to_excel('matriz_pearson_male_azure.xlsx', index=None)"
   ]
  },
  {
   "cell_type": "markdown",
   "metadata": {},
   "source": [
    "# 2. Rekognition"
   ]
  },
  {
   "cell_type": "code",
   "execution_count": 18,
   "metadata": {},
   "outputs": [],
   "source": [
    "dataframe = pd.read_excel('all_attributes.xlsx', usecols=range(0,29), sheet_name='rekognition')"
   ]
  },
  {
   "cell_type": "code",
   "execution_count": 19,
   "metadata": {},
   "outputs": [],
   "source": [
    "#converte pra inteiro as colunas booleanas\n",
    "bool_columns = list(filter(lambda x: x.startswith('A_' or 'E_' or 'V_'), dataframe.columns))\n",
    "for col in bool_columns:\n",
    "    dataframe[col] = dataframe[col].apply(parseInt)"
   ]
  },
  {
   "cell_type": "code",
   "execution_count": 20,
   "metadata": {},
   "outputs": [
    {
     "data": {
      "text/plain": [
       "Index(['FILENAME', 'IMAGE', 'GENDER', 'G_AWS', 'A_GENDER_AWS', 'A_MALE_AWS',\n",
       "       'E_MALE_AWS', 'A_FEMALE_AWS', 'E_FEMALE_AWS', 'MODA_AGE', 'AGE_MIN',\n",
       "       'AGE_MAX', 'AGE_MIN_AWS', 'V_MIN_AWS', 'AGE_MAX_AWS', 'V_MAX_AWS',\n",
       "       'Attractive', 'Is this person famous?', 'Common?',\n",
       "       'How much emotion is in this face?', 'Emotion?', 'Eyes direction?',\n",
       "       'Face direction?', 'Facial hair?', 'Friendly', 'Makeup?',\n",
       "       'Image quality', 'Race', 'Memorable'],\n",
       "      dtype='object')"
      ]
     },
     "execution_count": 20,
     "metadata": {},
     "output_type": "execute_result"
    }
   ],
   "source": [
    "dataframe.columns"
   ]
  },
  {
   "cell_type": "markdown",
   "metadata": {},
   "source": [
    "### Matriz com coeficientes de Pearson completo"
   ]
  },
  {
   "cell_type": "code",
   "execution_count": 21,
   "metadata": {},
   "outputs": [],
   "source": [
    "dataframe = dataframe.drop(['FILENAME', 'IMAGE', 'A_MALE_AWS',\n",
    "       'E_MALE_AWS', 'A_FEMALE_AWS', 'E_FEMALE_AWS','AGE_MIN',\n",
    "       'AGE_MAX', 'Is this person famous?'], axis = 1)"
   ]
  },
  {
   "cell_type": "code",
   "execution_count": 22,
   "metadata": {},
   "outputs": [],
   "source": [
    "corr = dataframe.corr()\n",
    "corr\n",
    "corr.to_excel('matriz_pearson_completo_rekog.xlsx', index=None)"
   ]
  },
  {
   "cell_type": "markdown",
   "metadata": {},
   "source": [
    "### filtro: apenas genero feminino"
   ]
  },
  {
   "cell_type": "code",
   "execution_count": 23,
   "metadata": {},
   "outputs": [],
   "source": [
    "dataframe = pd.read_excel('all_attributes.xlsx', usecols=range(0,29), sheet_name='rekognition')"
   ]
  },
  {
   "cell_type": "code",
   "execution_count": 24,
   "metadata": {},
   "outputs": [],
   "source": [
    "#converte pra inteiro as colunas booleanas\n",
    "bool_columns = list(filter(lambda x: x.startswith('A_' or 'E_' or 'V_'), dataframe.columns))\n",
    "for col in bool_columns:\n",
    "    dataframe[col] = dataframe[col].apply(parseInt)"
   ]
  },
  {
   "cell_type": "code",
   "execution_count": 25,
   "metadata": {},
   "outputs": [],
   "source": [
    "lista_fem = []\n",
    "\n",
    "for line in dataframe.index:\n",
    "    \n",
    "    if dataframe['GENDER'][line] == 0:\n",
    "        lista_fem.append(line)\n",
    "\n",
    "dataframe = dataframe.loc[lista_fem, :]"
   ]
  },
  {
   "cell_type": "code",
   "execution_count": 26,
   "metadata": {},
   "outputs": [],
   "source": [
    "dataframe = dataframe.drop(['FILENAME', 'IMAGE', 'GENDER', 'A_MALE_AWS', 'E_MALE_AWS', \n",
    "                             'A_FEMALE_AWS', 'E_FEMALE_AWS','AGE_MIN',\n",
    "                             'AGE_MAX', 'Is this person famous?'], axis = 1)"
   ]
  },
  {
   "cell_type": "code",
   "execution_count": 27,
   "metadata": {},
   "outputs": [],
   "source": [
    "corr = dataframe.corr()\n",
    "corr\n",
    "corr.to_excel('matriz_pearson_fem_rekog.xlsx', index=None)"
   ]
  },
  {
   "cell_type": "markdown",
   "metadata": {},
   "source": [
    "### filtro: apenas genero masculino"
   ]
  },
  {
   "cell_type": "code",
   "execution_count": 28,
   "metadata": {},
   "outputs": [],
   "source": [
    "dataframe = pd.read_excel('all_attributes.xlsx', usecols=range(0,29), sheet_name='rekognition')"
   ]
  },
  {
   "cell_type": "code",
   "execution_count": 29,
   "metadata": {},
   "outputs": [],
   "source": [
    "#converte pra inteiro as colunas booleanas\n",
    "bool_columns = list(filter(lambda x: x.startswith('A_' or 'E_' or 'V_'), dataframe.columns))\n",
    "for col in bool_columns:\n",
    "    dataframe[col] = dataframe[col].apply(parseInt)"
   ]
  },
  {
   "cell_type": "code",
   "execution_count": 30,
   "metadata": {},
   "outputs": [],
   "source": [
    "lista_male = []\n",
    "\n",
    "for line in dataframe.index:\n",
    "    \n",
    "    if dataframe['GENDER'][line] == 1:\n",
    "        lista_male.append(line)\n",
    "\n",
    "dataframe = dataframe.loc[lista_male, :]"
   ]
  },
  {
   "cell_type": "code",
   "execution_count": 31,
   "metadata": {},
   "outputs": [],
   "source": [
    "dataframe = dataframe.drop(['FILENAME', 'IMAGE', 'GENDER', 'A_MALE_AWS', 'E_MALE_AWS', \n",
    "                             'A_FEMALE_AWS', 'E_FEMALE_AWS','AGE_MIN',\n",
    "                             'AGE_MAX', 'Is this person famous?'], axis = 1)"
   ]
  },
  {
   "cell_type": "code",
   "execution_count": 32,
   "metadata": {},
   "outputs": [],
   "source": [
    "corr = dataframe.corr()\n",
    "corr\n",
    "corr.to_excel('matriz_pearson_male_rekog.xlsx', index=None)"
   ]
  },
  {
   "cell_type": "markdown",
   "metadata": {},
   "source": [
    "# 3. Watson"
   ]
  },
  {
   "cell_type": "code",
   "execution_count": 33,
   "metadata": {},
   "outputs": [],
   "source": [
    "dataframe = pd.read_excel('all_attributes.xlsx', usecols=range(0,29), sheet_name='watson')"
   ]
  },
  {
   "cell_type": "code",
   "execution_count": 34,
   "metadata": {},
   "outputs": [],
   "source": [
    "#converte pra inteiro as colunas booleanas\n",
    "bool_columns = list(filter(lambda x: x.startswith('A_' or 'E_' or 'V_'), dataframe.columns))\n",
    "for col in bool_columns:\n",
    "    dataframe[col] = dataframe[col].apply(parseInt)"
   ]
  },
  {
   "cell_type": "code",
   "execution_count": 35,
   "metadata": {},
   "outputs": [
    {
     "data": {
      "text/plain": [
       "Index(['FILENAME', 'IMAGE', 'GENDER', 'G_WAT', 'A_GENDER_WAT', 'A_MALE_WAT',\n",
       "       'E_MALE_WAT', 'A_FEMALE_WAT', 'E_FEMALE_WAT', 'MODA_AGE', 'AGE_MIN',\n",
       "       'AGE_MAX', 'AGE_MIN_WATSON', 'V_MIN_WATSON', 'AGE_MAX_WATSON',\n",
       "       'V_MAX_WATSON', 'Attractive', 'Is this person famous?', 'Common?',\n",
       "       'How much emotion is in this face?', 'Emotion?', 'Eyes direction?',\n",
       "       'Face direction?', 'Facial hair?', 'Friendly', 'Makeup?',\n",
       "       'Image quality', 'Race', 'Memorable'],\n",
       "      dtype='object')"
      ]
     },
     "execution_count": 35,
     "metadata": {},
     "output_type": "execute_result"
    }
   ],
   "source": [
    "dataframe.columns"
   ]
  },
  {
   "cell_type": "markdown",
   "metadata": {},
   "source": [
    "### Matriz com coeficientes de Pearson completo"
   ]
  },
  {
   "cell_type": "code",
   "execution_count": 36,
   "metadata": {},
   "outputs": [],
   "source": [
    "dataframe = dataframe.drop(['FILENAME', 'IMAGE', 'A_MALE_WAT',\n",
    "       'E_MALE_WAT', 'A_FEMALE_WAT', 'E_FEMALE_WAT','AGE_MIN',\n",
    "       'AGE_MAX', 'Is this person famous?'], axis = 1)"
   ]
  },
  {
   "cell_type": "code",
   "execution_count": 37,
   "metadata": {},
   "outputs": [],
   "source": [
    "corr = dataframe.corr()\n",
    "corr\n",
    "corr.to_excel('matriz_pearson_completo_watson.xlsx', index=None)"
   ]
  },
  {
   "cell_type": "markdown",
   "metadata": {},
   "source": [
    "### filtro: apenas genero feminino"
   ]
  },
  {
   "cell_type": "code",
   "execution_count": 38,
   "metadata": {},
   "outputs": [],
   "source": [
    "dataframe = pd.read_excel('all_attributes.xlsx', usecols=range(0,29), sheet_name='watson')"
   ]
  },
  {
   "cell_type": "code",
   "execution_count": 39,
   "metadata": {},
   "outputs": [],
   "source": [
    "#converte pra inteiro as colunas booleanas\n",
    "bool_columns = list(filter(lambda x: x.startswith('A_' or 'E_' or 'V_'), dataframe.columns))\n",
    "for col in bool_columns:\n",
    "    dataframe[col] = dataframe[col].apply(parseInt)"
   ]
  },
  {
   "cell_type": "code",
   "execution_count": 40,
   "metadata": {},
   "outputs": [],
   "source": [
    "lista_fem = []\n",
    "\n",
    "for line in dataframe.index:\n",
    "    \n",
    "    if dataframe['GENDER'][line] == 0:\n",
    "        lista_fem.append(line)\n",
    "\n",
    "dataframe = dataframe.loc[lista_fem, :]"
   ]
  },
  {
   "cell_type": "code",
   "execution_count": 41,
   "metadata": {},
   "outputs": [],
   "source": [
    "dataframe = dataframe.drop(['FILENAME', 'IMAGE', 'GENDER', 'A_MALE_WAT', 'E_MALE_WAT', 'A_FEMALE_WAT', 'E_FEMALE_WAT',\n",
    "                            'AGE_MIN', 'AGE_MAX', 'Is this person famous?'], axis = 1)"
   ]
  },
  {
   "cell_type": "code",
   "execution_count": 42,
   "metadata": {},
   "outputs": [],
   "source": [
    "corr = dataframe.corr()\n",
    "corr\n",
    "corr.to_excel('matriz_pearson_fem_watson.xlsx', index=None)"
   ]
  },
  {
   "cell_type": "markdown",
   "metadata": {},
   "source": [
    "### filtro: apenas genero masculino"
   ]
  },
  {
   "cell_type": "code",
   "execution_count": 43,
   "metadata": {},
   "outputs": [],
   "source": [
    "dataframe = pd.read_excel('all_attributes.xlsx', usecols=range(0,29), sheet_name='watson')"
   ]
  },
  {
   "cell_type": "code",
   "execution_count": 44,
   "metadata": {},
   "outputs": [],
   "source": [
    "#converte pra inteiro as colunas booleanas\n",
    "bool_columns = list(filter(lambda x: x.startswith('A_' or 'E_' or 'V_'), dataframe.columns))\n",
    "for col in bool_columns:\n",
    "    dataframe[col] = dataframe[col].apply(parseInt)"
   ]
  },
  {
   "cell_type": "code",
   "execution_count": 45,
   "metadata": {},
   "outputs": [],
   "source": [
    "lista_male = []\n",
    "\n",
    "for line in dataframe.index:\n",
    "    \n",
    "    if dataframe['GENDER'][line] == 1:\n",
    "        lista_male.append(line)\n",
    "\n",
    "dataframe = dataframe.loc[lista_male, :]"
   ]
  },
  {
   "cell_type": "code",
   "execution_count": 46,
   "metadata": {},
   "outputs": [],
   "source": [
    "dataframe = dataframe.drop(['FILENAME', 'IMAGE', 'GENDER', 'A_MALE_WAT', 'E_MALE_WAT', 'A_FEMALE_WAT', 'E_FEMALE_WAT', \n",
    "                            'AGE_MIN', 'AGE_MAX', 'Is this person famous?'], axis = 1)"
   ]
  },
  {
   "cell_type": "code",
   "execution_count": 47,
   "metadata": {},
   "outputs": [],
   "source": [
    "corr = dataframe.corr()\n",
    "corr\n",
    "corr.to_excel('matriz_pearson_male_watson.xlsx', index=None)"
   ]
  }
 ],
 "metadata": {
  "kernelspec": {
   "display_name": "Python 3",
   "language": "python",
   "name": "python3"
  },
  "language_info": {
   "codemirror_mode": {
    "name": "ipython",
    "version": 3
   },
   "file_extension": ".py",
   "mimetype": "text/x-python",
   "name": "python",
   "nbconvert_exporter": "python",
   "pygments_lexer": "ipython3",
   "version": "3.7.3"
  }
 },
 "nbformat": 4,
 "nbformat_minor": 2
}
