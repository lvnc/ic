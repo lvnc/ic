{
 "cells": [
  {
   "cell_type": "markdown",
   "metadata": {},
   "source": [
    "# Outros Gráficos"
   ]
  },
  {
   "cell_type": "code",
   "execution_count": 1,
   "metadata": {},
   "outputs": [
    {
     "data": {
      "text/plain": [
       "'0.24.2'"
      ]
     },
     "execution_count": 1,
     "metadata": {},
     "output_type": "execute_result"
    }
   ],
   "source": [
    "import pandas as pd\n",
    "import seaborn as sns\n",
    "import matplotlib.pyplot as plt\n",
    "from os import path\n",
    "import numpy as np\n",
    "%matplotlib inline\n",
    "pd.__version__"
   ]
  },
  {
   "cell_type": "code",
   "execution_count": 2,
   "metadata": {},
   "outputs": [],
   "source": [
    "def parseInt(value):\n",
    "    if value == True:\n",
    "        return 1\n",
    "    elif value == False:\n",
    "        return 0\n",
    "    else:\n",
    "        return pd.np.nan"
   ]
  },
  {
   "cell_type": "code",
   "execution_count": 3,
   "metadata": {},
   "outputs": [],
   "source": [
    "import scipy.stats as ss\n",
    "from collections import Counter\n",
    "import math \n",
    "from scipy import stats\n",
    "\n",
    "def convert(data, to):\n",
    "    converted = None\n",
    "    if to == 'array':\n",
    "        if isinstance(data, np.ndarray):\n",
    "            converted = data\n",
    "        elif isinstance(data, pd.Series):\n",
    "            converted = data.values\n",
    "        elif isinstance(data, list):\n",
    "            converted = np.array(data)\n",
    "        elif isinstance(data, pd.DataFrame):\n",
    "            converted = data.as_matrix()\n",
    "    elif to == 'list':\n",
    "        if isinstance(data, list):\n",
    "            converted = data\n",
    "        elif isinstance(data, pd.Series):\n",
    "            converted = data.values.tolist()\n",
    "        elif isinstance(data, np.ndarray):\n",
    "            converted = data.tolist()\n",
    "    elif to == 'dataframe':\n",
    "        if isinstance(data, pd.DataFrame):\n",
    "            converted = data\n",
    "        elif isinstance(data, np.ndarray):\n",
    "            converted = pd.DataFrame(data)\n",
    "    else:\n",
    "        raise ValueError(\"Unknown data conversion: {}\".format(to))\n",
    "    if converted is None:\n",
    "        raise TypeError('cannot handle data conversion of type: {} to {}'.format(type(data),to))\n",
    "    else:\n",
    "        return converted\n",
    "    \n",
    "def conditional_entropy(x, y):\n",
    "    \"\"\"\n",
    "    Calculates the conditional entropy of x given y: S(x|y)\n",
    "    Wikipedia: https://en.wikipedia.org/wiki/Conditional_entropy\n",
    "    :param x: list / NumPy ndarray / Pandas Series\n",
    "        A sequence of measurements\n",
    "    :param y: list / NumPy ndarray / Pandas Series\n",
    "        A sequence of measurements\n",
    "    :return: float\n",
    "    \"\"\"\n",
    "    # entropy of x given y\n",
    "    y_counter = Counter(y)\n",
    "    xy_counter = Counter(list(zip(x,y)))\n",
    "    total_occurrences = sum(y_counter.values())\n",
    "    entropy = 0.0\n",
    "    for xy in xy_counter.keys():\n",
    "        p_xy = xy_counter[xy] / total_occurrences\n",
    "        p_y = y_counter[xy[1]] / total_occurrences\n",
    "        entropy += p_xy * math.log(p_y/p_xy)\n",
    "    return entropy\n",
    "\n",
    "def cramers_v(x, y):\n",
    "    confusion_matrix = pd.crosstab(x,y)\n",
    "    chi2 = ss.chi2_contingency(confusion_matrix)[0]\n",
    "    n = confusion_matrix.sum().sum()\n",
    "    phi2 = chi2/n\n",
    "    r,k = confusion_matrix.shape\n",
    "    phi2corr = max(0, phi2-((k-1)*(r-1))/(n-1))\n",
    "    rcorr = r-((r-1)**2)/(n-1)\n",
    "    kcorr = k-((k-1)**2)/(n-1)\n",
    "    return np.sqrt(phi2corr/min((kcorr-1),(rcorr-1)))\n",
    "\n",
    "def theils_u(x, y):\n",
    "    s_xy = conditional_entropy(x,y)\n",
    "    x_counter = Counter(x)\n",
    "    total_occurrences = sum(x_counter.values())\n",
    "    p_x = list(map(lambda n: n/total_occurrences, x_counter.values()))\n",
    "    s_x = ss.entropy(p_x)\n",
    "    if s_x == 0:\n",
    "        return 1\n",
    "    else:\n",
    "        return (s_x - s_xy) / s_x\n",
    "\n",
    "def correlation_ratio(categories, measurements):\n",
    "    fcat, _ = pd.factorize(categories)\n",
    "    cat_num = np.max(fcat)+1\n",
    "    y_avg_array = np.zeros(cat_num)\n",
    "    n_array = np.zeros(cat_num)\n",
    "    for i in range(0,cat_num):\n",
    "        cat_measures = measurements[np.argwhere(fcat == i).flatten()]\n",
    "        n_array[i] = len(cat_measures)\n",
    "        y_avg_array[i] = np.average(cat_measures)\n",
    "    y_total_avg = np.sum(np.multiply(y_avg_array,n_array))/np.sum(n_array)\n",
    "    numerator = np.sum(np.multiply(n_array,np.power(np.subtract(y_avg_array,y_total_avg),2)))\n",
    "    denominator = np.sum(np.power(np.subtract(measurements,y_total_avg),2))\n",
    "    if numerator == 0:\n",
    "        eta = 0.0\n",
    "    else:\n",
    "        eta = numerator/denominator\n",
    "    return eta\n",
    "\n",
    "def associations(dataset, nominal_columns=None, mark_columns=False, theil_u=False, plot=True,\n",
    "                          return_results = False, **kwargs):\n",
    "\n",
    "    dataset = convert(dataset, 'dataframe')\n",
    "    columns = dataset.columns\n",
    "    if nominal_columns is None:\n",
    "        nominal_columns = list()\n",
    "    elif nominal_columns == 'all':\n",
    "        nominal_columns = columns\n",
    "    corr = pd.DataFrame(index=columns, columns=columns)\n",
    "    for i in range(0,len(columns)):\n",
    "        for j in range(i,len(columns)):\n",
    "            if i == j:\n",
    "                corr[columns[i]][columns[j]] = 1.0\n",
    "            else:\n",
    "                if columns[i] in nominal_columns:\n",
    "                    if columns[j] in nominal_columns:\n",
    "                        if theil_u:\n",
    "                            corr[columns[j]][columns[i]] = theils_u(dataset[columns[i]],dataset[columns[j]])\n",
    "                            corr[columns[i]][columns[j]] = theils_u(dataset[columns[j]],dataset[columns[i]])\n",
    "                        else:\n",
    "                            cell = cramers_v(dataset[columns[i]],dataset[columns[j]])\n",
    "                            corr[columns[i]][columns[j]] = cell\n",
    "                            corr[columns[j]][columns[i]] = cell\n",
    "                    else:\n",
    "                        cell = correlation_ratio(dataset[columns[i]], dataset[columns[j]])\n",
    "                        corr[columns[i]][columns[j]] = cell\n",
    "                        corr[columns[j]][columns[i]] = cell\n",
    "                else:\n",
    "                    if columns[j] in nominal_columns:\n",
    "                        cell = correlation_ratio(dataset[columns[j]], dataset[columns[i]])\n",
    "                        corr[columns[i]][columns[j]] = cell\n",
    "                        corr[columns[j]][columns[i]] = cell\n",
    "                    else:\n",
    "                        cell, _ = ss.pearsonr(dataset[columns[i]], dataset[columns[j]])\n",
    "                        corr[columns[i]][columns[j]] = cell\n",
    "                        corr[columns[j]][columns[i]] = cell\n",
    "    corr.fillna(value=np.nan, inplace=True)\n",
    "    if mark_columns:\n",
    "        marked_columns = ['{} (nom)'.format(col) if col in nominal_columns else '{} (con)'.format(col) for col in columns]\n",
    "        corr.columns = marked_columns\n",
    "        corr.index = marked_columns\n",
    "    if plot:\n",
    "        plt.figure(figsize=(20,20))#kwargs.get('figsize',None))\n",
    "        sns.heatmap(corr, annot=kwargs.get('annot',True), fmt=kwargs.get('fmt','.2f'), cmap='coolwarm')\n",
    "        plt.show()\n",
    "    if return_results:\n",
    "        return corr"
   ]
  },
  {
   "cell_type": "markdown",
   "metadata": {},
   "source": [
    "# 1. Azure"
   ]
  },
  {
   "cell_type": "code",
   "execution_count": 4,
   "metadata": {},
   "outputs": [],
   "source": [
    "dataframe = pd.read_excel('all_attributes.xlsx', usecols=range(0,29), sheet_name='azure')"
   ]
  },
  {
   "cell_type": "code",
   "execution_count": 5,
   "metadata": {},
   "outputs": [],
   "source": [
    "#converte pra inteiro as colunas booleanas\n",
    "bool_columns = list(filter(lambda x: x.startswith('A_' or 'E_' or 'V_'), dataframe.columns))\n",
    "for col in bool_columns:\n",
    "    dataframe[col] = dataframe[col].apply(parseInt)"
   ]
  },
  {
   "cell_type": "code",
   "execution_count": 6,
   "metadata": {},
   "outputs": [
    {
     "data": {
      "text/plain": [
       "Index(['FILENAME', 'IMAGE', 'GENDER', 'G_AZURE', 'A_GENDER_AZURE',\n",
       "       'A_MALE_AZURE', 'E_MALE_AZURE', 'A_FEMALE_AZURE', 'E_FEMALE_AZURE',\n",
       "       'MODA_AGE', 'AGE_MIN', 'AGE_MAX', 'AGE_AZURE', 'V_AGE_AZURE',\n",
       "       'Attractive', 'Is this person famous?', 'Common?',\n",
       "       'How much emotion is in this face?', 'Emotion?', 'Eyes direction?',\n",
       "       'Face direction?', 'Facial hair?', 'Friendly', 'Makeup?',\n",
       "       'Image quality', 'Race', 'Memorable',\n",
       "       'At what speed do you think this expression is happening?',\n",
       "       'How much teeth is showing?'],\n",
       "      dtype='object')"
      ]
     },
     "execution_count": 6,
     "metadata": {},
     "output_type": "execute_result"
    }
   ],
   "source": [
    "dataframe.columns"
   ]
  },
  {
   "cell_type": "markdown",
   "metadata": {},
   "source": [
    "## Gráfico de correlação completo"
   ]
  },
  {
   "cell_type": "code",
   "execution_count": 7,
   "metadata": {},
   "outputs": [],
   "source": [
    "dataframe = dataframe.drop(['FILENAME', 'IMAGE', 'A_MALE_AZURE', 'E_MALE_AZURE', \n",
    "                            'A_FEMALE_AZURE', 'E_FEMALE_AZURE', 'AGE_MIN', 'AGE_MAX', 'Is this person famous?',\n",
    "                            'At what speed do you think this expression is happening?'], axis = 1)"
   ]
  },
  {
   "cell_type": "code",
   "execution_count": 8,
   "metadata": {},
   "outputs": [
    {
     "data": {
      "image/png": "[encoded data removed]",
      "text/plain": [
       "<Figure size 1008x720 with 1 Axes>"
      ]
     },
     "metadata": {
      "needs_background": "light"
     },
     "output_type": "display_data"
    }
   ],
   "source": [
    "g = sns.swarmplot(y = 'A_GENDER_AZURE', x = 'Race', data = dataframe, size = 7)\n",
    "sns.despine()\n",
    "g.figure.set_size_inches(14,10)\n",
    "plt.show()"
   ]
  },
  {
   "cell_type": "code",
   "execution_count": null,
   "metadata": {},
   "outputs": [],
   "source": [
    "dataframe = dataframe.fillna(0)\n",
    "results = associations(dataframe, return_results=True)\n",
    "#graph = sns.pairplot(dataframe, height = 5)\n",
    "#fig = graph.get_figure()\n",
    "#fig.savefig(\"pairplot_completo_azure.pdf\")"
   ]
  },
  {
   "cell_type": "markdown",
   "metadata": {},
   "source": [
    "### filtro: apenas genero feminino"
   ]
  },
  {
   "cell_type": "code",
   "execution_count": null,
   "metadata": {},
   "outputs": [],
   "source": [
    "dataframe = pd.read_excel('all_attributes.xlsx', usecols=range(0,29), sheet_name='azure')"
   ]
  },
  {
   "cell_type": "code",
   "execution_count": null,
   "metadata": {},
   "outputs": [],
   "source": [
    "#converte pra inteiro as colunas booleanas\n",
    "bool_columns = list(filter(lambda x: x.startswith('A_' or 'E_' or 'V_'), dataframe.columns))\n",
    "for col in bool_columns:\n",
    "    dataframe[col] = dataframe[col].apply(parseInt)"
   ]
  },
  {
   "cell_type": "code",
   "execution_count": null,
   "metadata": {},
   "outputs": [],
   "source": [
    "lista_fem = []\n",
    "\n",
    "for line in dataframe.index:\n",
    "    \n",
    "    if dataframe['GENDER'][line] == 0:\n",
    "        lista_fem.append(line)\n",
    "\n",
    "dataframe = dataframe.loc[lista_fem, :]"
   ]
  },
  {
   "cell_type": "code",
   "execution_count": null,
   "metadata": {},
   "outputs": [],
   "source": [
    "dataframe = dataframe.drop(['FILENAME', 'IMAGE', 'GENDER', 'A_MALE_AZURE', 'E_MALE_AZURE', \n",
    "                            'A_FEMALE_AZURE', 'E_FEMALE_AZURE', 'AGE_MIN', 'AGE_MAX', 'Is this person famous?',\n",
    "                            'At what speed do you think this expression is happening?'], axis = 1)"
   ]
  },
  {
   "cell_type": "code",
   "execution_count": null,
   "metadata": {},
   "outputs": [],
   "source": [
    "dataframe = dataframe.fillna(0)\n",
    "results = associations(dataframe, return_results=True)"
   ]
  },
  {
   "cell_type": "markdown",
   "metadata": {},
   "source": [
    "### filtro: apenas genero masculino"
   ]
  },
  {
   "cell_type": "code",
   "execution_count": null,
   "metadata": {},
   "outputs": [],
   "source": [
    "dataframe = pd.read_excel('all_attributes.xlsx', usecols=range(0,29), sheet_name='azure')"
   ]
  },
  {
   "cell_type": "code",
   "execution_count": null,
   "metadata": {},
   "outputs": [],
   "source": [
    "#converte pra inteiro as colunas booleanas\n",
    "bool_columns = list(filter(lambda x: x.startswith('A_' or 'E_' or 'V_'), dataframe.columns))\n",
    "for col in bool_columns:\n",
    "    dataframe[col] = dataframe[col].apply(parseInt)"
   ]
  },
  {
   "cell_type": "code",
   "execution_count": null,
   "metadata": {},
   "outputs": [],
   "source": [
    "lista_male = []\n",
    "\n",
    "for line in dataframe.index:\n",
    "    \n",
    "    if dataframe['GENDER'][line] == 1:\n",
    "        lista_male.append(line)\n",
    "\n",
    "dataframe = dataframe.loc[lista_male, :]"
   ]
  },
  {
   "cell_type": "code",
   "execution_count": null,
   "metadata": {},
   "outputs": [],
   "source": [
    "dataframe = dataframe.drop(['FILENAME', 'IMAGE', 'GENDER', 'A_MALE_AZURE', 'E_MALE_AZURE', \n",
    "                            'A_FEMALE_AZURE', 'E_FEMALE_AZURE', 'AGE_MIN', 'AGE_MAX', 'Is this person famous?',\n",
    "                            'At what speed do you think this expression is happening?'], axis = 1)"
   ]
  },
  {
   "cell_type": "code",
   "execution_count": null,
   "metadata": {},
   "outputs": [],
   "source": [
    "dataframe = dataframe.fillna(0)\n",
    "results = associations(dataframe, return_results=True)"
   ]
  },
  {
   "cell_type": "markdown",
   "metadata": {},
   "source": [
    "# 2. Rekognition"
   ]
  },
  {
   "cell_type": "code",
   "execution_count": null,
   "metadata": {},
   "outputs": [],
   "source": [
    "dataframe = pd.read_excel('all_attributes.xlsx', usecols=range(0,29), sheet_name='rekognition')"
   ]
  },
  {
   "cell_type": "code",
   "execution_count": null,
   "metadata": {},
   "outputs": [],
   "source": [
    "#converte pra inteiro as colunas booleanas\n",
    "bool_columns = list(filter(lambda x: x.startswith('A_' or 'E_' or 'V_'), dataframe.columns))\n",
    "for col in bool_columns:\n",
    "    dataframe[col] = dataframe[col].apply(parseInt)"
   ]
  },
  {
   "cell_type": "code",
   "execution_count": null,
   "metadata": {},
   "outputs": [],
   "source": [
    "dataframe.columns"
   ]
  },
  {
   "cell_type": "markdown",
   "metadata": {},
   "source": [
    "## Gráfico de correlação completo"
   ]
  },
  {
   "cell_type": "code",
   "execution_count": null,
   "metadata": {},
   "outputs": [],
   "source": [
    "dataframe = dataframe.drop(['FILENAME', 'IMAGE', 'A_MALE_AWS',\n",
    "       'E_MALE_AWS', 'A_FEMALE_AWS', 'E_FEMALE_AWS','AGE_MIN',\n",
    "       'AGE_MAX', 'Is this person famous?'], axis = 1)"
   ]
  },
  {
   "cell_type": "code",
   "execution_count": null,
   "metadata": {},
   "outputs": [],
   "source": [
    "dataframe = dataframe.fillna(0)\n",
    "results = associations(dataframe, return_results=True)"
   ]
  },
  {
   "cell_type": "markdown",
   "metadata": {},
   "source": [
    "### filtro: apenas genero feminino"
   ]
  },
  {
   "cell_type": "code",
   "execution_count": null,
   "metadata": {},
   "outputs": [],
   "source": [
    "dataframe = pd.read_excel('all_attributes.xlsx', usecols=range(0,29), sheet_name='rekognition')"
   ]
  },
  {
   "cell_type": "code",
   "execution_count": null,
   "metadata": {},
   "outputs": [],
   "source": [
    "#converte pra inteiro as colunas booleanas\n",
    "bool_columns = list(filter(lambda x: x.startswith('A_' or 'E_' or 'V_'), dataframe.columns))\n",
    "for col in bool_columns:\n",
    "    dataframe[col] = dataframe[col].apply(parseInt)"
   ]
  },
  {
   "cell_type": "code",
   "execution_count": null,
   "metadata": {},
   "outputs": [],
   "source": [
    "lista_fem = []\n",
    "\n",
    "for line in dataframe.index:\n",
    "    \n",
    "    if dataframe['GENDER'][line] == 0:\n",
    "        lista_fem.append(line)\n",
    "\n",
    "dataframe = dataframe.loc[lista_fem, :]"
   ]
  },
  {
   "cell_type": "code",
   "execution_count": null,
   "metadata": {},
   "outputs": [],
   "source": [
    "dataframe = dataframe.drop(['FILENAME', 'IMAGE', 'GENDER', 'A_MALE_AWS', 'E_MALE_AWS', \n",
    "                             'A_FEMALE_AWS', 'E_FEMALE_AWS','AGE_MIN',\n",
    "                             'AGE_MAX', 'Is this person famous?'], axis = 1)"
   ]
  },
  {
   "cell_type": "code",
   "execution_count": null,
   "metadata": {},
   "outputs": [],
   "source": [
    "dataframe = dataframe.fillna(0)\n",
    "results = associations(dataframe, return_results=True)"
   ]
  },
  {
   "cell_type": "markdown",
   "metadata": {},
   "source": [
    "### filtro: apenas genero masculino"
   ]
  },
  {
   "cell_type": "code",
   "execution_count": null,
   "metadata": {},
   "outputs": [],
   "source": [
    "dataframe = pd.read_excel('all_attributes.xlsx', usecols=range(0,29), sheet_name='rekognition')"
   ]
  },
  {
   "cell_type": "code",
   "execution_count": null,
   "metadata": {},
   "outputs": [],
   "source": [
    "#converte pra inteiro as colunas booleanas\n",
    "bool_columns = list(filter(lambda x: x.startswith('A_' or 'E_' or 'V_'), dataframe.columns))\n",
    "for col in bool_columns:\n",
    "    dataframe[col] = dataframe[col].apply(parseInt)"
   ]
  },
  {
   "cell_type": "code",
   "execution_count": null,
   "metadata": {},
   "outputs": [],
   "source": [
    "lista_male = []\n",
    "\n",
    "for line in dataframe.index:\n",
    "    \n",
    "    if dataframe['GENDER'][line] == 1:\n",
    "        lista_male.append(line)\n",
    "\n",
    "dataframe = dataframe.loc[lista_male, :]"
   ]
  },
  {
   "cell_type": "code",
   "execution_count": null,
   "metadata": {},
   "outputs": [],
   "source": [
    "dataframe = dataframe.drop(['FILENAME', 'IMAGE', 'GENDER', 'A_MALE_AWS', 'E_MALE_AWS', \n",
    "                             'A_FEMALE_AWS', 'E_FEMALE_AWS','AGE_MIN',\n",
    "                             'AGE_MAX', 'Is this person famous?'], axis = 1)"
   ]
  },
  {
   "cell_type": "code",
   "execution_count": null,
   "metadata": {},
   "outputs": [],
   "source": [
    "dataframe = dataframe.fillna(0)\n",
    "results = associations(dataframe, return_results=True)"
   ]
  },
  {
   "cell_type": "markdown",
   "metadata": {},
   "source": [
    "# 3. Watson"
   ]
  },
  {
   "cell_type": "code",
   "execution_count": null,
   "metadata": {},
   "outputs": [],
   "source": [
    "dataframe = pd.read_excel('all_attributes.xlsx', usecols=range(0,29), sheet_name='watson')"
   ]
  },
  {
   "cell_type": "code",
   "execution_count": null,
   "metadata": {},
   "outputs": [],
   "source": [
    "#converte pra inteiro as colunas booleanas\n",
    "bool_columns = list(filter(lambda x: x.startswith('A_' or 'E_' or 'V_'), dataframe.columns))\n",
    "for col in bool_columns:\n",
    "    dataframe[col] = dataframe[col].apply(parseInt)"
   ]
  },
  {
   "cell_type": "code",
   "execution_count": null,
   "metadata": {},
   "outputs": [],
   "source": [
    "dataframe.columns"
   ]
  },
  {
   "cell_type": "markdown",
   "metadata": {},
   "source": [
    "## Gráfico de correlação completo"
   ]
  },
  {
   "cell_type": "code",
   "execution_count": null,
   "metadata": {},
   "outputs": [],
   "source": [
    "dataframe = dataframe.drop(['FILENAME', 'IMAGE', 'A_MALE_WAT',\n",
    "       'E_MALE_WAT', 'A_FEMALE_WAT', 'E_FEMALE_WAT','AGE_MIN',\n",
    "       'AGE_MAX', 'Is this person famous?'], axis = 1)"
   ]
  },
  {
   "cell_type": "code",
   "execution_count": null,
   "metadata": {},
   "outputs": [],
   "source": [
    "dataframe = dataframe.fillna(0)\n",
    "results = associations(dataframe, return_results=True)"
   ]
  },
  {
   "cell_type": "markdown",
   "metadata": {},
   "source": [
    "### filtro: apenas genero feminino"
   ]
  },
  {
   "cell_type": "code",
   "execution_count": null,
   "metadata": {},
   "outputs": [],
   "source": [
    "dataframe = pd.read_excel('all_attributes.xlsx', usecols=range(0,29), sheet_name='watson')"
   ]
  },
  {
   "cell_type": "code",
   "execution_count": null,
   "metadata": {},
   "outputs": [],
   "source": [
    "#converte pra inteiro as colunas booleanas\n",
    "bool_columns = list(filter(lambda x: x.startswith('A_' or 'E_' or 'V_'), dataframe.columns))\n",
    "for col in bool_columns:\n",
    "    dataframe[col] = dataframe[col].apply(parseInt)"
   ]
  },
  {
   "cell_type": "code",
   "execution_count": null,
   "metadata": {},
   "outputs": [],
   "source": [
    "lista_fem = []\n",
    "\n",
    "for line in dataframe.index:\n",
    "    \n",
    "    if dataframe['GENDER'][line] == 0:\n",
    "        lista_fem.append(line)\n",
    "\n",
    "dataframe = dataframe.loc[lista_fem, :]"
   ]
  },
  {
   "cell_type": "code",
   "execution_count": null,
   "metadata": {},
   "outputs": [],
   "source": [
    "dataframe = dataframe.drop(['FILENAME', 'IMAGE', 'GENDER', 'A_MALE_WAT', 'E_MALE_WAT', 'A_FEMALE_WAT', 'E_FEMALE_WAT',\n",
    "                            'AGE_MIN', 'AGE_MAX', 'Is this person famous?'], axis = 1)"
   ]
  },
  {
   "cell_type": "code",
   "execution_count": null,
   "metadata": {},
   "outputs": [],
   "source": [
    "dataframe = dataframe.fillna(0)\n",
    "results = associations(dataframe, return_results=True)"
   ]
  },
  {
   "cell_type": "markdown",
   "metadata": {},
   "source": [
    "### filtro: apenas genero masculino"
   ]
  },
  {
   "cell_type": "code",
   "execution_count": null,
   "metadata": {},
   "outputs": [],
   "source": [
    "dataframe = pd.read_excel('all_attributes.xlsx', usecols=range(0,29), sheet_name='watson')"
   ]
  },
  {
   "cell_type": "code",
   "execution_count": null,
   "metadata": {},
   "outputs": [],
   "source": [
    "#converte pra inteiro as colunas booleanas\n",
    "bool_columns = list(filter(lambda x: x.startswith('A_' or 'E_' or 'V_'), dataframe.columns))\n",
    "for col in bool_columns:\n",
    "    dataframe[col] = dataframe[col].apply(parseInt)"
   ]
  },
  {
   "cell_type": "code",
   "execution_count": null,
   "metadata": {},
   "outputs": [],
   "source": [
    "lista_male = []\n",
    "\n",
    "for line in dataframe.index:\n",
    "    \n",
    "    if dataframe['GENDER'][line] == 1:\n",
    "        lista_male.append(line)\n",
    "\n",
    "dataframe = dataframe.loc[lista_male, :]"
   ]
  },
  {
   "cell_type": "code",
   "execution_count": null,
   "metadata": {},
   "outputs": [],
   "source": [
    "dataframe = dataframe.drop(['FILENAME', 'IMAGE', 'GENDER', 'A_MALE_WAT', 'E_MALE_WAT', 'A_FEMALE_WAT', 'E_FEMALE_WAT', \n",
    "                            'AGE_MIN', 'AGE_MAX', 'Is this person famous?'], axis = 1)"
   ]
  },
  {
   "cell_type": "code",
   "execution_count": null,
   "metadata": {},
   "outputs": [],
   "source": [
    "dataframe = dataframe.fillna(0)\n",
    "results = associations(dataframe, return_results=True)"
   ]
  }
 ],
 "metadata": {
  "kernelspec": {
   "display_name": "Python 3",
   "language": "python",
   "name": "python3"
  },
  "language_info": {
   "codemirror_mode": {
    "name": "ipython",
    "version": 3
   },
   "file_extension": ".py",
   "mimetype": "text/x-python",
   "name": "python",
   "nbconvert_exporter": "python",
   "pygments_lexer": "ipython3",
   "version": "3.7.3"
  }
 },
 "nbformat": 4,
 "nbformat_minor": 2
}
